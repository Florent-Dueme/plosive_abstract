{
 "cells": [
  {
   "cell_type": "code",
   "execution_count": 17,
   "metadata": {},
   "outputs": [],
   "source": [
    "import pandas as pd\n",
    "import re"
   ]
  },
  {
   "cell_type": "code",
   "execution_count": 18,
   "metadata": {},
   "outputs": [],
   "source": [
    "data = pd.read_csv(r'C:\\Users\\Dell\\Documents\\Scripts\\Jupyter_notebooks\\Experiments\\Frspbil\\Plosives\\Table_data\\PI_burst_23_01_2022.csv', sep=\";\")\n",
    "data.rename(columns={\"Plosive Index\": \"Plosive_Index\", \"VOT no release\": \"VOT\", \"VOT release\": \"Length\"}, inplace=True)"
   ]
  },
  {
   "cell_type": "code",
   "execution_count": 19,
   "metadata": {},
   "outputs": [
    {
     "data": {
      "text/html": [
       "<div>\n",
       "<style scoped>\n",
       "    .dataframe tbody tr th:only-of-type {\n",
       "        vertical-align: middle;\n",
       "    }\n",
       "\n",
       "    .dataframe tbody tr th {\n",
       "        vertical-align: top;\n",
       "    }\n",
       "\n",
       "    .dataframe thead th {\n",
       "        text-align: right;\n",
       "    }\n",
       "</style>\n",
       "<table border=\"1\" class=\"dataframe\">\n",
       "  <thead>\n",
       "    <tr style=\"text-align: right;\">\n",
       "      <th></th>\n",
       "      <th>File</th>\n",
       "      <th>Plosion index</th>\n",
       "      <th>VOT</th>\n",
       "      <th>Length</th>\n",
       "    </tr>\n",
       "  </thead>\n",
       "  <tbody>\n",
       "    <tr>\n",
       "      <th>0</th>\n",
       "      <td>b_pic_nam_101_baile_1</td>\n",
       "      <td>6.958387</td>\n",
       "      <td>0.065170</td>\n",
       "      <td>0.070159</td>\n",
       "    </tr>\n",
       "    <tr>\n",
       "      <th>1</th>\n",
       "      <td>b_pic_nam_101_bandera_0</td>\n",
       "      <td>5.637841</td>\n",
       "      <td>0.031536</td>\n",
       "      <td>0.037616</td>\n",
       "    </tr>\n",
       "    <tr>\n",
       "      <th>2</th>\n",
       "      <td>b_pic_nam_101_barriga_1</td>\n",
       "      <td>11.897856</td>\n",
       "      <td>0.016449</td>\n",
       "      <td>0.023127</td>\n",
       "    </tr>\n",
       "    <tr>\n",
       "      <th>3</th>\n",
       "      <td>b_pic_nam_101_barrio_1</td>\n",
       "      <td>12.517455</td>\n",
       "      <td>0.035134</td>\n",
       "      <td>0.044726</td>\n",
       "    </tr>\n",
       "    <tr>\n",
       "      <th>4</th>\n",
       "      <td>b_pic_nam_101_basura_1</td>\n",
       "      <td>8.928240</td>\n",
       "      <td>0.045496</td>\n",
       "      <td>0.060336</td>\n",
       "    </tr>\n",
       "    <tr>\n",
       "      <th>...</th>\n",
       "      <td>...</td>\n",
       "      <td>...</td>\n",
       "      <td>...</td>\n",
       "      <td>...</td>\n",
       "    </tr>\n",
       "    <tr>\n",
       "      <th>4793</th>\n",
       "      <td>b_reading_9_vivienda_1</td>\n",
       "      <td>6.717718</td>\n",
       "      <td>0.059955</td>\n",
       "      <td>0.064943</td>\n",
       "    </tr>\n",
       "    <tr>\n",
       "      <th>4794</th>\n",
       "      <td>b_reading_9_voceo_1</td>\n",
       "      <td>8.755124</td>\n",
       "      <td>0.047326</td>\n",
       "      <td>0.052604</td>\n",
       "    </tr>\n",
       "    <tr>\n",
       "      <th>4795</th>\n",
       "      <td>b_reading_9_voces_1</td>\n",
       "      <td>6.583342</td>\n",
       "      <td>0.057075</td>\n",
       "      <td>0.062063</td>\n",
       "    </tr>\n",
       "    <tr>\n",
       "      <th>4796</th>\n",
       "      <td>b_reading_9_volante_1</td>\n",
       "      <td>4.468694</td>\n",
       "      <td>0.059109</td>\n",
       "      <td>0.063884</td>\n",
       "    </tr>\n",
       "    <tr>\n",
       "      <th>4797</th>\n",
       "      <td>b_reading_9_volverse_1</td>\n",
       "      <td>4.718191</td>\n",
       "      <td>0.058481</td>\n",
       "      <td>0.063469</td>\n",
       "    </tr>\n",
       "  </tbody>\n",
       "</table>\n",
       "<p>4798 rows × 4 columns</p>\n",
       "</div>"
      ],
      "text/plain": [
       "                         File  Plosion index       VOT    Length\n",
       "0       b_pic_nam_101_baile_1       6.958387  0.065170  0.070159\n",
       "1     b_pic_nam_101_bandera_0       5.637841  0.031536  0.037616\n",
       "2     b_pic_nam_101_barriga_1      11.897856  0.016449  0.023127\n",
       "3      b_pic_nam_101_barrio_1      12.517455  0.035134  0.044726\n",
       "4      b_pic_nam_101_basura_1       8.928240  0.045496  0.060336\n",
       "...                       ...            ...       ...       ...\n",
       "4793   b_reading_9_vivienda_1       6.717718  0.059955  0.064943\n",
       "4794      b_reading_9_voceo_1       8.755124  0.047326  0.052604\n",
       "4795      b_reading_9_voces_1       6.583342  0.057075  0.062063\n",
       "4796    b_reading_9_volante_1       4.468694  0.059109  0.063884\n",
       "4797   b_reading_9_volverse_1       4.718191  0.058481  0.063469\n",
       "\n",
       "[4798 rows x 4 columns]"
      ]
     },
     "execution_count": 19,
     "metadata": {},
     "output_type": "execute_result"
    }
   ],
   "source": [
    "data"
   ]
  },
  {
   "cell_type": "code",
   "execution_count": 20,
   "metadata": {},
   "outputs": [],
   "source": [
    "data.insert(4, \"Error\", \"\")\n",
    "\n",
    "def get_errors(x):\n",
    "    pattern = re.compile(\"\\(.*\\)\")\n",
    "    if re.search(pattern, x) == None:\n",
    "        return \"\"\n",
    "    else:\n",
    "        return re.search(pattern, x).group(0)\n",
    "\n",
    "data[\"Error\"] = data[\"File\"].apply(get_errors)"
   ]
  },
  {
   "cell_type": "code",
   "execution_count": 21,
   "metadata": {},
   "outputs": [],
   "source": [
    "data = data[data.Error == \"\"]"
   ]
  },
  {
   "cell_type": "code",
   "execution_count": 22,
   "metadata": {},
   "outputs": [
    {
     "name": "stderr",
     "output_type": "stream",
     "text": [
      "C:\\Users\\Dell\\AppData\\Local\\Temp/ipykernel_13484/2681707047.py:7: SettingWithCopyWarning: \n",
      "A value is trying to be set on a copy of a slice from a DataFrame.\n",
      "Try using .loc[row_indexer,col_indexer] = value instead\n",
      "\n",
      "See the caveats in the documentation: https://pandas.pydata.org/pandas-docs/stable/user_guide/indexing.html#returning-a-view-versus-a-copy\n",
      "  data[\"Speaker\"] = data[\"File\"].apply(get_part)\n"
     ]
    }
   ],
   "source": [
    "data.insert(0, \"Speaker\", \"\")\n",
    "\n",
    "def get_part(x):\n",
    "    pattern = re.compile(\"_(\\d*)_\")\n",
    "    return re.search(pattern, x).group(1)\n",
    "\n",
    "data[\"Speaker\"] = data[\"File\"].apply(get_part)"
   ]
  },
  {
   "cell_type": "code",
   "execution_count": 23,
   "metadata": {},
   "outputs": [
    {
     "name": "stderr",
     "output_type": "stream",
     "text": [
      "C:\\Users\\Dell\\AppData\\Local\\Temp/ipykernel_13484/253924514.py:9: SettingWithCopyWarning: \n",
      "A value is trying to be set on a copy of a slice from a DataFrame.\n",
      "Try using .loc[row_indexer,col_indexer] = value instead\n",
      "\n",
      "See the caveats in the documentation: https://pandas.pydata.org/pandas-docs/stable/user_guide/indexing.html#returning-a-view-versus-a-copy\n",
      "  data[\"Group\"] = data[\"Speaker\"].apply(get_group)\n"
     ]
    }
   ],
   "source": [
    "data.insert(0, \"Group\", \"\")\n",
    "\n",
    "def get_group(x):\n",
    "    if int(x) > 99:\n",
    "        return \"Monolinguals\"\n",
    "    else:\n",
    "        return \"Bilinguals\"\n",
    "\n",
    "data[\"Group\"] = data[\"Speaker\"].apply(get_group)"
   ]
  },
  {
   "cell_type": "code",
   "execution_count": 24,
   "metadata": {},
   "outputs": [],
   "source": [
    "data.insert(0, \"Language\", \"Spanish\")"
   ]
  },
  {
   "cell_type": "code",
   "execution_count": 25,
   "metadata": {},
   "outputs": [
    {
     "name": "stderr",
     "output_type": "stream",
     "text": [
      "C:\\Users\\Dell\\AppData\\Local\\Temp/ipykernel_13484/954532292.py:10: SettingWithCopyWarning: \n",
      "A value is trying to be set on a copy of a slice from a DataFrame.\n",
      "Try using .loc[row_indexer,col_indexer] = value instead\n",
      "\n",
      "See the caveats in the documentation: https://pandas.pydata.org/pandas-docs/stable/user_guide/indexing.html#returning-a-view-versus-a-copy\n",
      "  data[\"Word\"] = data[\"File\"].apply(get_word)\n"
     ]
    }
   ],
   "source": [
    "data.insert(4, \"Word\", \"\")\n",
    "\n",
    "def get_word(x):\n",
    "    pattern = re.compile(\"\\d_(.*)_\\d\")\n",
    "    if re.search(pattern, x) == None:\n",
    "        return \"no_word\"\n",
    "    else:\n",
    "        return re.search(pattern, x).group(1)\n",
    "\n",
    "data[\"Word\"] = data[\"File\"].apply(get_word)"
   ]
  },
  {
   "cell_type": "code",
   "execution_count": 26,
   "metadata": {},
   "outputs": [
    {
     "data": {
      "text/html": [
       "<div>\n",
       "<style scoped>\n",
       "    .dataframe tbody tr th:only-of-type {\n",
       "        vertical-align: middle;\n",
       "    }\n",
       "\n",
       "    .dataframe tbody tr th {\n",
       "        vertical-align: top;\n",
       "    }\n",
       "\n",
       "    .dataframe thead th {\n",
       "        text-align: right;\n",
       "    }\n",
       "</style>\n",
       "<table border=\"1\" class=\"dataframe\">\n",
       "  <thead>\n",
       "    <tr style=\"text-align: right;\">\n",
       "      <th></th>\n",
       "      <th>Language</th>\n",
       "      <th>Group</th>\n",
       "      <th>Speaker</th>\n",
       "      <th>File</th>\n",
       "      <th>Word</th>\n",
       "      <th>Plosion index</th>\n",
       "      <th>VOT</th>\n",
       "      <th>Length</th>\n",
       "      <th>Error</th>\n",
       "    </tr>\n",
       "  </thead>\n",
       "  <tbody>\n",
       "  </tbody>\n",
       "</table>\n",
       "</div>"
      ],
      "text/plain": [
       "Empty DataFrame\n",
       "Columns: [Language, Group, Speaker, File, Word, Plosion index, VOT, Length, Error]\n",
       "Index: []"
      ]
     },
     "execution_count": 26,
     "metadata": {},
     "output_type": "execute_result"
    }
   ],
   "source": [
    "data[data.Word == \"no_word\"]"
   ]
  },
  {
   "cell_type": "code",
   "execution_count": 27,
   "metadata": {},
   "outputs": [
    {
     "name": "stderr",
     "output_type": "stream",
     "text": [
      "C:\\Users\\Dell\\AppData\\Local\\Temp/ipykernel_13484/2017836771.py:6: SettingWithCopyWarning: \n",
      "A value is trying to be set on a copy of a slice from a DataFrame.\n",
      "Try using .loc[row_indexer,col_indexer] = value instead\n",
      "\n",
      "See the caveats in the documentation: https://pandas.pydata.org/pandas-docs/stable/user_guide/indexing.html#returning-a-view-versus-a-copy\n",
      "  data[\"Grapheme\"] = data[\"Word\"].apply(get_graph)\n"
     ]
    }
   ],
   "source": [
    "data.insert(3, \"Grapheme\", \"\")\n",
    "\n",
    "def get_graph(x):\n",
    "    return x[0]\n",
    "\n",
    "data[\"Grapheme\"] = data[\"Word\"].apply(get_graph)"
   ]
  },
  {
   "cell_type": "code",
   "execution_count": 28,
   "metadata": {},
   "outputs": [
    {
     "name": "stderr",
     "output_type": "stream",
     "text": [
      "C:\\Users\\Dell\\AppData\\Local\\Temp/ipykernel_13484/1728006900.py:11: SettingWithCopyWarning: \n",
      "A value is trying to be set on a copy of a slice from a DataFrame.\n",
      "Try using .loc[row_indexer,col_indexer] = value instead\n",
      "\n",
      "See the caveats in the documentation: https://pandas.pydata.org/pandas-docs/stable/user_guide/indexing.html#returning-a-view-versus-a-copy\n",
      "  data[\"Task\"] = data[\"File\"].apply(get_task)\n"
     ]
    }
   ],
   "source": [
    "data.insert(4, \"Task\", \"\")\n",
    "\n",
    "def get_task(x):\n",
    "    if \"pic_nam\" in x:\n",
    "        return \"naming\"\n",
    "    elif \"reading\" in x:\n",
    "        return \"reading\"\n",
    "    else:\n",
    "        return \"PW\"\n",
    "\n",
    "data[\"Task\"] = data[\"File\"].apply(get_task)"
   ]
  },
  {
   "cell_type": "code",
   "execution_count": 29,
   "metadata": {},
   "outputs": [
    {
     "name": "stderr",
     "output_type": "stream",
     "text": [
      "C:\\Users\\Dell\\AppData\\Local\\Temp/ipykernel_13484/1976839507.py:11: SettingWithCopyWarning: \n",
      "A value is trying to be set on a copy of a slice from a DataFrame.\n",
      "Try using .loc[row_indexer,col_indexer] = value instead\n",
      "\n",
      "See the caveats in the documentation: https://pandas.pydata.org/pandas-docs/stable/user_guide/indexing.html#returning-a-view-versus-a-copy\n",
      "  data[\"Gender\"] = data[\"Speaker\"].apply(get_gender)\n"
     ]
    }
   ],
   "source": [
    "list_males = [2, 15, 17, 24, 26, 30, 32, 102, 104, 105, 117, 202, 203, 206, 210, 211, 215]\n",
    "\n",
    "data.insert(10, \"Gender\", \"\")\n",
    "\n",
    "def get_gender(x):\n",
    "    if int(x) in list_males:\n",
    "        return \"M\"\n",
    "    else:\n",
    "        return \"F\"\n",
    "\n",
    "data[\"Gender\"] = data[\"Speaker\"].apply(get_gender)"
   ]
  },
  {
   "cell_type": "code",
   "execution_count": 30,
   "metadata": {},
   "outputs": [
    {
     "name": "stderr",
     "output_type": "stream",
     "text": [
      "C:\\Users\\Dell\\AppData\\Local\\Temp/ipykernel_13484/200295260.py:13: SettingWithCopyWarning: \n",
      "A value is trying to be set on a copy of a slice from a DataFrame.\n",
      "Try using .loc[row_indexer,col_indexer] = value instead\n",
      "\n",
      "See the caveats in the documentation: https://pandas.pydata.org/pandas-docs/stable/user_guide/indexing.html#returning-a-view-versus-a-copy\n",
      "  data[\"Burst\"] = data[\"File\"].apply(get_burst)\n"
     ]
    }
   ],
   "source": [
    "data.insert(11, \"Burst\", \"\")\n",
    "\n",
    "def get_burst(x):\n",
    "    pattern = re.compile(\"_(\\d*)$\")\n",
    "    if re.search(pattern, x) == None:\n",
    "        return \"no_burst\"\n",
    "    else:\n",
    "        if re.search(pattern, x).group(1) == \"1\":\n",
    "            return True\n",
    "        else:\n",
    "            return False\n",
    "\n",
    "data[\"Burst\"] = data[\"File\"].apply(get_burst)"
   ]
  },
  {
   "cell_type": "code",
   "execution_count": 31,
   "metadata": {},
   "outputs": [
    {
     "data": {
      "text/html": [
       "<div>\n",
       "<style scoped>\n",
       "    .dataframe tbody tr th:only-of-type {\n",
       "        vertical-align: middle;\n",
       "    }\n",
       "\n",
       "    .dataframe tbody tr th {\n",
       "        vertical-align: top;\n",
       "    }\n",
       "\n",
       "    .dataframe thead th {\n",
       "        text-align: right;\n",
       "    }\n",
       "</style>\n",
       "<table border=\"1\" class=\"dataframe\">\n",
       "  <thead>\n",
       "    <tr style=\"text-align: right;\">\n",
       "      <th></th>\n",
       "      <th>Language</th>\n",
       "      <th>Group</th>\n",
       "      <th>Speaker</th>\n",
       "      <th>Grapheme</th>\n",
       "      <th>Task</th>\n",
       "      <th>File</th>\n",
       "      <th>Word</th>\n",
       "      <th>Plosion index</th>\n",
       "      <th>VOT</th>\n",
       "      <th>Length</th>\n",
       "      <th>Gender</th>\n",
       "      <th>Burst</th>\n",
       "      <th>Error</th>\n",
       "    </tr>\n",
       "  </thead>\n",
       "  <tbody>\n",
       "  </tbody>\n",
       "</table>\n",
       "</div>"
      ],
      "text/plain": [
       "Empty DataFrame\n",
       "Columns: [Language, Group, Speaker, Grapheme, Task, File, Word, Plosion index, VOT, Length, Gender, Burst, Error]\n",
       "Index: []"
      ]
     },
     "execution_count": 31,
     "metadata": {},
     "output_type": "execute_result"
    }
   ],
   "source": [
    "data[data.Burst == \"no_burst\"]"
   ]
  },
  {
   "cell_type": "code",
   "execution_count": 32,
   "metadata": {},
   "outputs": [],
   "source": [
    "data.to_csv(r'C:\\Users\\Dell\\Documents\\Scripts\\Jupyter_notebooks\\Experiments\\Frspbil\\Plosives\\Table_data\\clean_PI_burst_23_01_2022.csv', sep=\";\", index=False)"
   ]
  },
  {
   "cell_type": "code",
   "execution_count": null,
   "metadata": {},
   "outputs": [],
   "source": []
  }
 ],
 "metadata": {
  "interpreter": {
   "hash": "bb6360a2076383e38a0f6a9f69597d20fe8c993bfd3e66b4f6b858f33f594369"
  },
  "kernelspec": {
   "display_name": "Python 3.9.7 64-bit ('Plosion': conda)",
   "language": "python",
   "name": "python3"
  },
  "language_info": {
   "codemirror_mode": {
    "name": "ipython",
    "version": 3
   },
   "file_extension": ".py",
   "mimetype": "text/x-python",
   "name": "python",
   "nbconvert_exporter": "python",
   "pygments_lexer": "ipython3",
   "version": "3.9.7"
  },
  "orig_nbformat": 4
 },
 "nbformat": 4,
 "nbformat_minor": 2
}
